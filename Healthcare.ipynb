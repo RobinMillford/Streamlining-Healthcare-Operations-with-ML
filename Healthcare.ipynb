{
 "cells": [
  {
   "cell_type": "code",
   "execution_count": 1,
   "metadata": {},
   "outputs": [],
   "source": [
    "import pandas as pd\n",
    "import numpy as np\n",
    "import matplotlib.pyplot as ml"
   ]
  },
  {
   "cell_type": "code",
   "execution_count": 2,
   "metadata": {},
   "outputs": [
    {
     "data": {
      "text/html": [
       "<div>\n",
       "<style scoped>\n",
       "    .dataframe tbody tr th:only-of-type {\n",
       "        vertical-align: middle;\n",
       "    }\n",
       "\n",
       "    .dataframe tbody tr th {\n",
       "        vertical-align: top;\n",
       "    }\n",
       "\n",
       "    .dataframe thead th {\n",
       "        text-align: right;\n",
       "    }\n",
       "</style>\n",
       "<table border=\"1\" class=\"dataframe\">\n",
       "  <thead>\n",
       "    <tr style=\"text-align: right;\">\n",
       "      <th></th>\n",
       "      <th>case_id</th>\n",
       "      <th>Hospital_code</th>\n",
       "      <th>Hospital_type_code</th>\n",
       "      <th>City_Code_Hospital</th>\n",
       "      <th>Hospital_region_code</th>\n",
       "      <th>Available Extra Rooms in Hospital</th>\n",
       "      <th>Department</th>\n",
       "      <th>Ward_Type</th>\n",
       "      <th>Ward_Facility_Code</th>\n",
       "      <th>Bed Grade</th>\n",
       "      <th>patientid</th>\n",
       "      <th>City_Code_Patient</th>\n",
       "      <th>Type of Admission</th>\n",
       "      <th>Severity of Illness</th>\n",
       "      <th>Visitors with Patient</th>\n",
       "      <th>Age</th>\n",
       "      <th>Admission_Deposit</th>\n",
       "      <th>Stay</th>\n",
       "    </tr>\n",
       "  </thead>\n",
       "  <tbody>\n",
       "    <tr>\n",
       "      <th>0</th>\n",
       "      <td>1</td>\n",
       "      <td>8</td>\n",
       "      <td>c</td>\n",
       "      <td>3</td>\n",
       "      <td>Z</td>\n",
       "      <td>3</td>\n",
       "      <td>radiotherapy</td>\n",
       "      <td>R</td>\n",
       "      <td>F</td>\n",
       "      <td>2.0</td>\n",
       "      <td>31397</td>\n",
       "      <td>7.0</td>\n",
       "      <td>Emergency</td>\n",
       "      <td>Extreme</td>\n",
       "      <td>2</td>\n",
       "      <td>51-60</td>\n",
       "      <td>4911.0</td>\n",
       "      <td>0-10</td>\n",
       "    </tr>\n",
       "    <tr>\n",
       "      <th>1</th>\n",
       "      <td>2</td>\n",
       "      <td>2</td>\n",
       "      <td>c</td>\n",
       "      <td>5</td>\n",
       "      <td>Z</td>\n",
       "      <td>2</td>\n",
       "      <td>radiotherapy</td>\n",
       "      <td>S</td>\n",
       "      <td>F</td>\n",
       "      <td>2.0</td>\n",
       "      <td>31397</td>\n",
       "      <td>7.0</td>\n",
       "      <td>Trauma</td>\n",
       "      <td>Extreme</td>\n",
       "      <td>2</td>\n",
       "      <td>51-60</td>\n",
       "      <td>5954.0</td>\n",
       "      <td>41-50</td>\n",
       "    </tr>\n",
       "    <tr>\n",
       "      <th>2</th>\n",
       "      <td>3</td>\n",
       "      <td>10</td>\n",
       "      <td>e</td>\n",
       "      <td>1</td>\n",
       "      <td>X</td>\n",
       "      <td>2</td>\n",
       "      <td>anesthesia</td>\n",
       "      <td>S</td>\n",
       "      <td>E</td>\n",
       "      <td>2.0</td>\n",
       "      <td>31397</td>\n",
       "      <td>7.0</td>\n",
       "      <td>Trauma</td>\n",
       "      <td>Extreme</td>\n",
       "      <td>2</td>\n",
       "      <td>51-60</td>\n",
       "      <td>4745.0</td>\n",
       "      <td>31-40</td>\n",
       "    </tr>\n",
       "    <tr>\n",
       "      <th>3</th>\n",
       "      <td>4</td>\n",
       "      <td>26</td>\n",
       "      <td>b</td>\n",
       "      <td>2</td>\n",
       "      <td>Y</td>\n",
       "      <td>2</td>\n",
       "      <td>radiotherapy</td>\n",
       "      <td>R</td>\n",
       "      <td>D</td>\n",
       "      <td>2.0</td>\n",
       "      <td>31397</td>\n",
       "      <td>7.0</td>\n",
       "      <td>Trauma</td>\n",
       "      <td>Extreme</td>\n",
       "      <td>2</td>\n",
       "      <td>51-60</td>\n",
       "      <td>7272.0</td>\n",
       "      <td>41-50</td>\n",
       "    </tr>\n",
       "    <tr>\n",
       "      <th>4</th>\n",
       "      <td>5</td>\n",
       "      <td>26</td>\n",
       "      <td>b</td>\n",
       "      <td>2</td>\n",
       "      <td>Y</td>\n",
       "      <td>2</td>\n",
       "      <td>radiotherapy</td>\n",
       "      <td>S</td>\n",
       "      <td>D</td>\n",
       "      <td>2.0</td>\n",
       "      <td>31397</td>\n",
       "      <td>7.0</td>\n",
       "      <td>Trauma</td>\n",
       "      <td>Extreme</td>\n",
       "      <td>2</td>\n",
       "      <td>51-60</td>\n",
       "      <td>5558.0</td>\n",
       "      <td>41-50</td>\n",
       "    </tr>\n",
       "  </tbody>\n",
       "</table>\n",
       "</div>"
      ],
      "text/plain": [
       "   case_id  Hospital_code Hospital_type_code  City_Code_Hospital  \\\n",
       "0        1              8                  c                   3   \n",
       "1        2              2                  c                   5   \n",
       "2        3             10                  e                   1   \n",
       "3        4             26                  b                   2   \n",
       "4        5             26                  b                   2   \n",
       "\n",
       "  Hospital_region_code  Available Extra Rooms in Hospital    Department  \\\n",
       "0                    Z                                  3  radiotherapy   \n",
       "1                    Z                                  2  radiotherapy   \n",
       "2                    X                                  2    anesthesia   \n",
       "3                    Y                                  2  radiotherapy   \n",
       "4                    Y                                  2  radiotherapy   \n",
       "\n",
       "  Ward_Type Ward_Facility_Code  Bed Grade  patientid  City_Code_Patient  \\\n",
       "0         R                  F        2.0      31397                7.0   \n",
       "1         S                  F        2.0      31397                7.0   \n",
       "2         S                  E        2.0      31397                7.0   \n",
       "3         R                  D        2.0      31397                7.0   \n",
       "4         S                  D        2.0      31397                7.0   \n",
       "\n",
       "  Type of Admission Severity of Illness  Visitors with Patient    Age  \\\n",
       "0         Emergency             Extreme                      2  51-60   \n",
       "1            Trauma             Extreme                      2  51-60   \n",
       "2            Trauma             Extreme                      2  51-60   \n",
       "3            Trauma             Extreme                      2  51-60   \n",
       "4            Trauma             Extreme                      2  51-60   \n",
       "\n",
       "   Admission_Deposit   Stay  \n",
       "0             4911.0   0-10  \n",
       "1             5954.0  41-50  \n",
       "2             4745.0  31-40  \n",
       "3             7272.0  41-50  \n",
       "4             5558.0  41-50  "
      ]
     },
     "execution_count": 2,
     "metadata": {},
     "output_type": "execute_result"
    }
   ],
   "source": [
    "train = pd.read_csv(\"train.csv\")\n",
    "train.head()"
   ]
  },
  {
   "cell_type": "code",
   "execution_count": 3,
   "metadata": {},
   "outputs": [
    {
     "data": {
      "text/html": [
       "<div>\n",
       "<style scoped>\n",
       "    .dataframe tbody tr th:only-of-type {\n",
       "        vertical-align: middle;\n",
       "    }\n",
       "\n",
       "    .dataframe tbody tr th {\n",
       "        vertical-align: top;\n",
       "    }\n",
       "\n",
       "    .dataframe thead th {\n",
       "        text-align: right;\n",
       "    }\n",
       "</style>\n",
       "<table border=\"1\" class=\"dataframe\">\n",
       "  <thead>\n",
       "    <tr style=\"text-align: right;\">\n",
       "      <th></th>\n",
       "      <th>case_id</th>\n",
       "      <th>Hospital_code</th>\n",
       "      <th>Hospital_type_code</th>\n",
       "      <th>City_Code_Hospital</th>\n",
       "      <th>Hospital_region_code</th>\n",
       "      <th>Available Extra Rooms in Hospital</th>\n",
       "      <th>Department</th>\n",
       "      <th>Ward_Type</th>\n",
       "      <th>Ward_Facility_Code</th>\n",
       "      <th>Bed Grade</th>\n",
       "      <th>patientid</th>\n",
       "      <th>City_Code_Patient</th>\n",
       "      <th>Type of Admission</th>\n",
       "      <th>Severity of Illness</th>\n",
       "      <th>Visitors with Patient</th>\n",
       "      <th>Age</th>\n",
       "      <th>Admission_Deposit</th>\n",
       "    </tr>\n",
       "  </thead>\n",
       "  <tbody>\n",
       "    <tr>\n",
       "      <th>0</th>\n",
       "      <td>318439</td>\n",
       "      <td>21</td>\n",
       "      <td>c</td>\n",
       "      <td>3</td>\n",
       "      <td>Z</td>\n",
       "      <td>3</td>\n",
       "      <td>gynecology</td>\n",
       "      <td>S</td>\n",
       "      <td>A</td>\n",
       "      <td>2.0</td>\n",
       "      <td>17006</td>\n",
       "      <td>2.0</td>\n",
       "      <td>Emergency</td>\n",
       "      <td>Moderate</td>\n",
       "      <td>2</td>\n",
       "      <td>71-80</td>\n",
       "      <td>3095.0</td>\n",
       "    </tr>\n",
       "    <tr>\n",
       "      <th>1</th>\n",
       "      <td>318440</td>\n",
       "      <td>29</td>\n",
       "      <td>a</td>\n",
       "      <td>4</td>\n",
       "      <td>X</td>\n",
       "      <td>2</td>\n",
       "      <td>gynecology</td>\n",
       "      <td>S</td>\n",
       "      <td>F</td>\n",
       "      <td>2.0</td>\n",
       "      <td>17006</td>\n",
       "      <td>2.0</td>\n",
       "      <td>Trauma</td>\n",
       "      <td>Moderate</td>\n",
       "      <td>4</td>\n",
       "      <td>71-80</td>\n",
       "      <td>4018.0</td>\n",
       "    </tr>\n",
       "    <tr>\n",
       "      <th>2</th>\n",
       "      <td>318441</td>\n",
       "      <td>26</td>\n",
       "      <td>b</td>\n",
       "      <td>2</td>\n",
       "      <td>Y</td>\n",
       "      <td>3</td>\n",
       "      <td>gynecology</td>\n",
       "      <td>Q</td>\n",
       "      <td>D</td>\n",
       "      <td>4.0</td>\n",
       "      <td>17006</td>\n",
       "      <td>2.0</td>\n",
       "      <td>Emergency</td>\n",
       "      <td>Moderate</td>\n",
       "      <td>3</td>\n",
       "      <td>71-80</td>\n",
       "      <td>4492.0</td>\n",
       "    </tr>\n",
       "    <tr>\n",
       "      <th>3</th>\n",
       "      <td>318442</td>\n",
       "      <td>6</td>\n",
       "      <td>a</td>\n",
       "      <td>6</td>\n",
       "      <td>X</td>\n",
       "      <td>3</td>\n",
       "      <td>gynecology</td>\n",
       "      <td>Q</td>\n",
       "      <td>F</td>\n",
       "      <td>2.0</td>\n",
       "      <td>17006</td>\n",
       "      <td>2.0</td>\n",
       "      <td>Trauma</td>\n",
       "      <td>Moderate</td>\n",
       "      <td>3</td>\n",
       "      <td>71-80</td>\n",
       "      <td>4173.0</td>\n",
       "    </tr>\n",
       "    <tr>\n",
       "      <th>4</th>\n",
       "      <td>318443</td>\n",
       "      <td>28</td>\n",
       "      <td>b</td>\n",
       "      <td>11</td>\n",
       "      <td>X</td>\n",
       "      <td>2</td>\n",
       "      <td>gynecology</td>\n",
       "      <td>R</td>\n",
       "      <td>F</td>\n",
       "      <td>2.0</td>\n",
       "      <td>17006</td>\n",
       "      <td>2.0</td>\n",
       "      <td>Trauma</td>\n",
       "      <td>Moderate</td>\n",
       "      <td>4</td>\n",
       "      <td>71-80</td>\n",
       "      <td>4161.0</td>\n",
       "    </tr>\n",
       "  </tbody>\n",
       "</table>\n",
       "</div>"
      ],
      "text/plain": [
       "   case_id  Hospital_code Hospital_type_code  City_Code_Hospital  \\\n",
       "0   318439             21                  c                   3   \n",
       "1   318440             29                  a                   4   \n",
       "2   318441             26                  b                   2   \n",
       "3   318442              6                  a                   6   \n",
       "4   318443             28                  b                  11   \n",
       "\n",
       "  Hospital_region_code  Available Extra Rooms in Hospital  Department  \\\n",
       "0                    Z                                  3  gynecology   \n",
       "1                    X                                  2  gynecology   \n",
       "2                    Y                                  3  gynecology   \n",
       "3                    X                                  3  gynecology   \n",
       "4                    X                                  2  gynecology   \n",
       "\n",
       "  Ward_Type Ward_Facility_Code  Bed Grade  patientid  City_Code_Patient  \\\n",
       "0         S                  A        2.0      17006                2.0   \n",
       "1         S                  F        2.0      17006                2.0   \n",
       "2         Q                  D        4.0      17006                2.0   \n",
       "3         Q                  F        2.0      17006                2.0   \n",
       "4         R                  F        2.0      17006                2.0   \n",
       "\n",
       "  Type of Admission Severity of Illness  Visitors with Patient    Age  \\\n",
       "0         Emergency            Moderate                      2  71-80   \n",
       "1            Trauma            Moderate                      4  71-80   \n",
       "2         Emergency            Moderate                      3  71-80   \n",
       "3            Trauma            Moderate                      3  71-80   \n",
       "4            Trauma            Moderate                      4  71-80   \n",
       "\n",
       "   Admission_Deposit  \n",
       "0             3095.0  \n",
       "1             4018.0  \n",
       "2             4492.0  \n",
       "3             4173.0  \n",
       "4             4161.0  "
      ]
     },
     "execution_count": 3,
     "metadata": {},
     "output_type": "execute_result"
    }
   ],
   "source": [
    "test = pd.read_csv(\"test.csv\")\n",
    "test.head()"
   ]
  },
  {
   "cell_type": "code",
   "execution_count": 4,
   "metadata": {},
   "outputs": [
    {
     "data": {
      "text/plain": [
       "case_id                               0\n",
       "Hospital_code                         0\n",
       "Hospital_type_code                    0\n",
       "City_Code_Hospital                    0\n",
       "Hospital_region_code                  0\n",
       "Available Extra Rooms in Hospital     0\n",
       "Department                            0\n",
       "Ward_Type                             0\n",
       "Ward_Facility_Code                    0\n",
       "Bed Grade                             2\n",
       "patientid                             0\n",
       "City_Code_Patient                    42\n",
       "Type of Admission                     0\n",
       "Severity of Illness                   0\n",
       "Visitors with Patient                 0\n",
       "Age                                   0\n",
       "Admission_Deposit                     0\n",
       "Stay                                  0\n",
       "dtype: int64"
      ]
     },
     "execution_count": 4,
     "metadata": {},
     "output_type": "execute_result"
    }
   ],
   "source": [
    "train.isnull().sum()"
   ]
  },
  {
   "cell_type": "code",
   "execution_count": 5,
   "metadata": {},
   "outputs": [
    {
     "data": {
      "text/plain": [
       "case_id                               0\n",
       "Hospital_code                         0\n",
       "Hospital_type_code                    0\n",
       "City_Code_Hospital                    0\n",
       "Hospital_region_code                  0\n",
       "Available Extra Rooms in Hospital     0\n",
       "Department                            0\n",
       "Ward_Type                             0\n",
       "Ward_Facility_Code                    0\n",
       "Bed Grade                             2\n",
       "patientid                             0\n",
       "City_Code_Patient                    21\n",
       "Type of Admission                     0\n",
       "Severity of Illness                   0\n",
       "Visitors with Patient                 0\n",
       "Age                                   0\n",
       "Admission_Deposit                     0\n",
       "dtype: int64"
      ]
     },
     "execution_count": 5,
     "metadata": {},
     "output_type": "execute_result"
    }
   ],
   "source": [
    "test.isnull().sum()"
   ]
  },
  {
   "cell_type": "code",
   "execution_count": 6,
   "metadata": {},
   "outputs": [],
   "source": [
    "train['Bed Grade'].fillna(train['Bed Grade'].mode()[0], inplace=True)\n",
    "train['City_Code_Patient'].fillna(train['City_Code_Patient'].mode()[0], inplace=True)"
   ]
  },
  {
   "cell_type": "code",
   "execution_count": 7,
   "metadata": {},
   "outputs": [],
   "source": [
    "test['Bed Grade'].fillna(test['Bed Grade'].mode()[0], inplace=True)\n",
    "test['City_Code_Patient'].fillna(test['City_Code_Patient'].mode()[0], inplace=True)"
   ]
  },
  {
   "cell_type": "code",
   "execution_count": 8,
   "metadata": {},
   "outputs": [],
   "source": [
    "from sklearn.preprocessing import LabelEncoder\n",
    "\n",
    "le = LabelEncoder()\n",
    "\n",
    "train['Stay'] = le.fit_transform(train['Stay'].astype('str'))"
   ]
  },
  {
   "cell_type": "code",
   "execution_count": 9,
   "metadata": {},
   "outputs": [],
   "source": [
    "test['Stay'] = -1"
   ]
  },
  {
   "cell_type": "code",
   "execution_count": 10,
   "metadata": {},
   "outputs": [],
   "source": [
    "df = pd.concat([train, test], ignore_index=True)"
   ]
  },
  {
   "cell_type": "code",
   "execution_count": 11,
   "metadata": {},
   "outputs": [],
   "source": [
    "# List of categorical column names\n",
    "categorical_columns = ['Hospital_type_code', 'Hospital_region_code', 'Department', \n",
    "                       'Ward_Type', 'Ward_Facility_Code', 'Type of Admission', \n",
    "                       'Severity of Illness', 'Age']\n",
    "\n",
    "# Iterate through each categorical column and apply label encoding\n",
    "for col in categorical_columns:\n",
    "    df[col] = le.fit_transform(df[col].astype(str))"
   ]
  },
  {
   "cell_type": "code",
   "execution_count": 12,
   "metadata": {},
   "outputs": [],
   "source": [
    "# Creating a new DataFrame 'train' by filtering rows where 'Stay' is not equal to -1\n",
    "train = df[df['Stay'] != -1]"
   ]
  },
  {
   "cell_type": "code",
   "execution_count": 13,
   "metadata": {},
   "outputs": [],
   "source": [
    "# Creating a new DataFrame 'test' by filtering rows where 'Stay' is equal to -1\n",
    "test = df[df['Stay'] == -1]"
   ]
  },
  {
   "cell_type": "code",
   "execution_count": 14,
   "metadata": {},
   "outputs": [],
   "source": [
    "columns_to_remove = ['Stay', 'patientid', 'Hospital_region_code', 'Ward_Facility_Code']\n",
    "\n",
    "# Creating a new DataFrame 'test1' by removing specified columns from 'test'\n",
    "test1 = test.drop(columns=columns_to_remove, axis=1)"
   ]
  },
  {
   "cell_type": "code",
   "execution_count": 15,
   "metadata": {},
   "outputs": [],
   "source": [
    "columns_to_remove_train = ['case_id', 'patientid', 'Hospital_region_code', 'Ward_Facility_Code']\n",
    "\n",
    "# Creating a new DataFrame 'train1' by removing specified columns from 'train'\n",
    "train1 = train.drop(columns=columns_to_remove_train, axis=1)"
   ]
  },
  {
   "cell_type": "code",
   "execution_count": 16,
   "metadata": {},
   "outputs": [
    {
     "name": "stdout",
     "output_type": "stream",
     "text": [
      "Shape of X_train: (4000, 13)\n",
      "Shape of X_test: (1000, 13)\n",
      "Shape of y_train: (4000,)\n",
      "Shape of y_test: (1000,)\n"
     ]
    }
   ],
   "source": [
    "from sklearn.model_selection import train_test_split\n",
    "\n",
    "\n",
    "# Creating feature variables (X1) by excluding the 'Stay' column\n",
    "X1 = train1.drop(columns=['Stay'], axis=1)\n",
    "\n",
    "# Creating the target variable (y1) with the 'Stay' column\n",
    "y1 = train1['Stay']\n",
    "\n",
    "# Spliting the data into training and testing sets\n",
    "X_train, X_test, y_train, y_test = train_test_split(X1, y1, test_size=0.2, random_state=100)\n",
    "\n",
    "# Displaying the shapes of the resulting sets\n",
    "print(\"Shape of X_train:\", X_train.shape)\n",
    "print(\"Shape of X_test:\", X_test.shape)\n",
    "print(\"Shape of y_train:\", y_train.shape)\n",
    "print(\"Shape of y_test:\", y_test.shape)"
   ]
  },
  {
   "cell_type": "markdown",
   "metadata": {},
   "source": [
    "### XGBoost"
   ]
  },
  {
   "cell_type": "code",
   "execution_count": 17,
   "metadata": {},
   "outputs": [
    {
     "name": "stdout",
     "output_type": "stream",
     "text": [
      "Accuracy Score of XGBoost Model: 0.4\n"
     ]
    }
   ],
   "source": [
    "import xgboost as xgb\n",
    "from sklearn.metrics import accuracy_score\n",
    "\n",
    "# Creating an XGBoost classifier with specified hyperparameters\n",
    "classifier_xgb = xgb.XGBClassifier(\n",
    "    max_depth=4,\n",
    "    learning_rate=0.1,\n",
    "    n_estimators=1000,\n",
    "    objective='multi:softmax',\n",
    "    reg_alpha=0.5,\n",
    "    reg_lambda=1.5,\n",
    "    booster='gbtree',\n",
    "    n_jobs=4,\n",
    "    min_child_weight=2,\n",
    "    base_score=0.75\n",
    ")\n",
    "\n",
    "\n",
    "model_xgb = classifier_xgb.fit(X_train, y_train)\n",
    "\n",
    "\n",
    "prediction_xgb = model_xgb.predict(X_test)\n",
    "\n",
    "# Calculate\\ing accuracy of the XGBoost model's predictions\n",
    "acc_score_xgb = accuracy_score(y_test, prediction_xgb)\n",
    "\n",
    "# Rounding the accuracy score to two decimal places\n",
    "acc_score_xgb = round(acc_score_xgb, 2)\n",
    "\n",
    "print(\"Accuracy Score of XGBoost Model:\", acc_score_xgb)\n"
   ]
  },
  {
   "cell_type": "markdown",
   "metadata": {},
   "source": [
    "### Random Forest"
   ]
  },
  {
   "cell_type": "code",
   "execution_count": 18,
   "metadata": {},
   "outputs": [
    {
     "name": "stdout",
     "output_type": "stream",
     "text": [
      "Accuracy Score of Random Forest Model: 0.38\n"
     ]
    }
   ],
   "source": [
    "from sklearn.ensemble import RandomForestClassifier\n",
    "from sklearn.metrics import accuracy_score\n",
    "\n",
    "classifier_rf = RandomForestClassifier(n_estimators=100, max_depth=5, random_state=42)\n",
    "\n",
    "model_rf = classifier_rf.fit(X_train, y_train)\n",
    "\n",
    "prediction_rf = model_rf.predict(X_test)\n",
    "\n",
    "acc_score_rf = accuracy_score(y_test, prediction_rf)\n",
    "\n",
    "acc_score_rf = round(acc_score_rf, 2)\n",
    "\n",
    "print(\"Accuracy Score of Random Forest Model:\", acc_score_rf)"
   ]
  },
  {
   "cell_type": "markdown",
   "metadata": {},
   "source": [
    "### lightgbm"
   ]
  },
  {
   "cell_type": "code",
   "execution_count": 19,
   "metadata": {},
   "outputs": [
    {
     "name": "stdout",
     "output_type": "stream",
     "text": [
      "Accuracy Score of LightGBM Model: 0.42\n"
     ]
    }
   ],
   "source": [
    "import lightgbm as lgb\n",
    "from sklearn.metrics import accuracy_score\n",
    "\n",
    "classifier_lgb = lgb.LGBMClassifier(max_depth=5, learning_rate=0.1, n_estimators=100, random_state=42)\n",
    "\n",
    "model_lgb = classifier_lgb.fit(X_train, y_train)\n",
    "\n",
    "prediction_lgb = model_lgb.predict(X_test)\n",
    "\n",
    "acc_score_lgb = accuracy_score(y_test, prediction_lgb)\n",
    "\n",
    "acc_score_lgb = round(acc_score_lgb, 2)\n",
    "\n",
    "print(\"Accuracy Score of LightGBM Model:\", acc_score_lgb)"
   ]
  },
  {
   "cell_type": "markdown",
   "metadata": {},
   "source": [
    "### KNN"
   ]
  },
  {
   "cell_type": "code",
   "execution_count": 20,
   "metadata": {},
   "outputs": [
    {
     "name": "stdout",
     "output_type": "stream",
     "text": [
      "Accuracy Score of K-Nearest Neighbors (KNN) Model: 0.24\n"
     ]
    }
   ],
   "source": [
    "from sklearn.neighbors import KNeighborsClassifier\n",
    "from sklearn.metrics import accuracy_score\n",
    "\n",
    "\n",
    "classifier_knn = KNeighborsClassifier(n_neighbors=5)\n",
    "\n",
    "model_knn = classifier_knn.fit(X_train, y_train)\n",
    "\n",
    "prediction_knn = model_knn.predict(X_test)\n",
    "\n",
    "acc_score_knn = accuracy_score(y_test, prediction_knn)\n",
    "\n",
    "acc_score_knn = round(acc_score_knn, 2)\n",
    "\n",
    "print(\"Accuracy Score of K-Nearest Neighbors (KNN) Model:\", acc_score_knn)"
   ]
  },
  {
   "cell_type": "markdown",
   "metadata": {},
   "source": [
    "### LogisticRegression"
   ]
  },
  {
   "cell_type": "code",
   "execution_count": 21,
   "metadata": {},
   "outputs": [
    {
     "name": "stdout",
     "output_type": "stream",
     "text": [
      "Accuracy Score of Logistic Regression Model: 0.32\n"
     ]
    },
    {
     "name": "stderr",
     "output_type": "stream",
     "text": [
      "c:\\Users\\Yamin Hossain\\anaconda3\\lib\\site-packages\\sklearn\\linear_model\\_logistic.py:458: ConvergenceWarning: lbfgs failed to converge (status=1):\n",
      "STOP: TOTAL NO. of ITERATIONS REACHED LIMIT.\n",
      "\n",
      "Increase the number of iterations (max_iter) or scale the data as shown in:\n",
      "    https://scikit-learn.org/stable/modules/preprocessing.html\n",
      "Please also refer to the documentation for alternative solver options:\n",
      "    https://scikit-learn.org/stable/modules/linear_model.html#logistic-regression\n",
      "  n_iter_i = _check_optimize_result(\n"
     ]
    }
   ],
   "source": [
    "from sklearn.linear_model import LogisticRegression\n",
    "from sklearn.metrics import accuracy_score\n",
    "\n",
    "classifier_lr = LogisticRegression(max_iter=100, random_state=42)\n",
    "\n",
    "model_lr = classifier_lr.fit(X_train, y_train)\n",
    "\n",
    "prediction_lr = model_lr.predict(X_test)\n",
    "\n",
    "acc_score_lr = accuracy_score(y_test, prediction_lr)\n",
    "\n",
    "acc_score_lr = round(acc_score_lr, 2)\n",
    "\n",
    "print(\"Accuracy Score of Logistic Regression Model:\", acc_score_lr)"
   ]
  },
  {
   "cell_type": "markdown",
   "metadata": {},
   "source": [
    "### GaussianNB"
   ]
  },
  {
   "cell_type": "code",
   "execution_count": 22,
   "metadata": {},
   "outputs": [
    {
     "name": "stdout",
     "output_type": "stream",
     "text": [
      "Accuracy Score of Naive Bayes Model: 0.37\n"
     ]
    }
   ],
   "source": [
    "from sklearn.naive_bayes import GaussianNB\n",
    "from sklearn.metrics import accuracy_score\n",
    "\n",
    "classifier_nb = GaussianNB()\n",
    "\n",
    "model_nb = classifier_nb.fit(X_train, y_train)\n",
    "\n",
    "prediction_nb = model_nb.predict(X_test)\n",
    "\n",
    "acc_score_nb = accuracy_score(y_test, prediction_nb)\n",
    "\n",
    "acc_score_nb = round(acc_score_nb, 2)\n",
    "\n",
    "print(\"Accuracy Score of Naive Bayes Model:\", acc_score_nb)"
   ]
  },
  {
   "cell_type": "markdown",
   "metadata": {},
   "source": [
    "### neural network"
   ]
  },
  {
   "cell_type": "code",
   "execution_count": 23,
   "metadata": {},
   "outputs": [
    {
     "name": "stdout",
     "output_type": "stream",
     "text": [
      "Epoch 1/10\n",
      "100/100 - 1s - loss: 2.0742 - accuracy: 0.2697 - val_loss: 1.8808 - val_accuracy: 0.2850 - 622ms/epoch - 6ms/step\n",
      "Epoch 2/10\n",
      "100/100 - 0s - loss: 1.7888 - accuracy: 0.3638 - val_loss: 1.7709 - val_accuracy: 0.3325 - 105ms/epoch - 1ms/step\n",
      "Epoch 3/10\n",
      "100/100 - 0s - loss: 1.6912 - accuracy: 0.4019 - val_loss: 1.7137 - val_accuracy: 0.3500 - 112ms/epoch - 1ms/step\n",
      "Epoch 4/10\n",
      "100/100 - 0s - loss: 1.6353 - accuracy: 0.4175 - val_loss: 1.6938 - val_accuracy: 0.3587 - 107ms/epoch - 1ms/step\n",
      "Epoch 5/10\n",
      "100/100 - 0s - loss: 1.6027 - accuracy: 0.4150 - val_loss: 1.6923 - val_accuracy: 0.3600 - 103ms/epoch - 1ms/step\n",
      "Epoch 6/10\n",
      "100/100 - 0s - loss: 1.5773 - accuracy: 0.4291 - val_loss: 1.6709 - val_accuracy: 0.3587 - 107ms/epoch - 1ms/step\n",
      "Epoch 7/10\n",
      "100/100 - 0s - loss: 1.5594 - accuracy: 0.4366 - val_loss: 1.6715 - val_accuracy: 0.3638 - 104ms/epoch - 1ms/step\n",
      "Epoch 8/10\n",
      "100/100 - 0s - loss: 1.5476 - accuracy: 0.4356 - val_loss: 1.6568 - val_accuracy: 0.3688 - 105ms/epoch - 1ms/step\n",
      "Epoch 9/10\n",
      "100/100 - 0s - loss: 1.5361 - accuracy: 0.4416 - val_loss: 1.6631 - val_accuracy: 0.3700 - 108ms/epoch - 1ms/step\n",
      "Epoch 10/10\n",
      "100/100 - 0s - loss: 1.5251 - accuracy: 0.4434 - val_loss: 1.6542 - val_accuracy: 0.3787 - 106ms/epoch - 1ms/step\n",
      "32/32 [==============================] - 0s 803us/step\n",
      "Accuracy Score of Neural Network Model: 0.39\n"
     ]
    }
   ],
   "source": [
    "import tensorflow as tf\n",
    "from tensorflow.keras.models import Sequential\n",
    "from tensorflow.keras.layers import Dense\n",
    "from sklearn.preprocessing import StandardScaler\n",
    "from sklearn.metrics import accuracy_score\n",
    "\n",
    "scaler = StandardScaler()\n",
    "X_train_scaled = scaler.fit_transform(X_train)\n",
    "X_test_scaled = scaler.transform(X_test)\n",
    "model_nn = Sequential([\n",
    "    Dense(64, activation='relu', input_shape=(X_train.shape[1],)),\n",
    "    Dense(32, activation='relu'),\n",
    "    Dense(len(np.unique(y_train)), activation='softmax')\n",
    "])\n",
    "\n",
    "model_nn.compile(optimizer='adam', loss='sparse_categorical_crossentropy', metrics=['accuracy'])\n",
    "\n",
    "model_nn.fit(X_train_scaled, y_train, epochs=10, batch_size=32, validation_split=0.2, verbose=2)\n",
    "\n",
    "probabilities = model_nn.predict(X_test_scaled)\n",
    "\n",
    "prediction_nn = np.argmax(probabilities, axis=1)\n",
    "\n",
    "acc_score_nn = accuracy_score(y_test, prediction_nn)\n",
    "\n",
    "acc_score_nn = round(acc_score_nn, 2)\n",
    "\n",
    "print(\"Accuracy Score of Neural Network Model:\", acc_score_nn)"
   ]
  },
  {
   "cell_type": "code",
   "execution_count": 24,
   "metadata": {},
   "outputs": [],
   "source": [
    "# pred_xgb = classifier_xgb.predict(test1.drop(columns=['case_id']))\n",
    "\n",
    "# # Create a new DataFrame 'result_xgb' to organize prediction results\n",
    "# result_xgb = pd.DataFrame()\n",
    "\n",
    "# # Add the 'case_id' column to 'result_xgb'\n",
    "# result_xgb['case_id'] = test1['case_id']\n",
    "\n",
    "# # Add the predictions to 'result_xgb' with the column name 'Stay'\n",
    "# result_xgb['Stay'] = pred_xgb\n",
    "\n",
    "# # Reorder columns in 'result_xgb'\n",
    "# result_xgb = result_xgb[['case_id', 'Stay']]\n",
    "\n",
    "# # Replace numeric labels in 'Stay' column with meaningful categories\n",
    "# # You may need to define a mapping of numeric labels to meaningful categories based on your specific data\n",
    "# label_mapping = {0: 'CategoryA', 1: 'CategoryB', 2: 'CategoryC', 3: 'CategoryD', 4: 'CategoryE', 5: 'CategoryF', 6: 'CategoryG', 7: 'CategoryH', 8: 'CategoryI', 9: 'CategoryJ', 10: 'CategoryK', 11: 'CategoryL', 12: 'CategoryM', 13: 'CategoryN', 14: 'CategoryO'}\n",
    "# result_xgb['Stay'] = result_xgb['Stay'].replace(label_mapping)\n",
    "\n",
    "# # Display the 'result_xgb' DataFrame\n",
    "# print(result_xgb)"
   ]
  },
  {
   "cell_type": "markdown",
   "metadata": {},
   "source": [
    "#### Lightgbm model is giving more accuracy than other models"
   ]
  },
  {
   "cell_type": "code",
   "execution_count": 25,
   "metadata": {},
   "outputs": [
    {
     "name": "stdout",
     "output_type": "stream",
     "text": [
      "      case_id       Stay\n",
      "5000   318439  CategoryA\n",
      "5001   318440  CategoryD\n",
      "5002   318441  CategoryD\n",
      "5003   318442  CategoryC\n",
      "5004   318443  CategoryF\n",
      "...       ...        ...\n",
      "6995   320434  CategoryF\n",
      "6996   320435  CategoryK\n",
      "6997   320436  CategoryC\n",
      "6998   320437  CategoryC\n",
      "6999   320438  CategoryC\n",
      "\n",
      "[2000 rows x 2 columns]\n"
     ]
    }
   ],
   "source": [
    "# Making predictions on the test data using the LightGBM model\n",
    "pred_lgb = model_lgb.predict(test1.drop(columns=['case_id']))\n",
    "\n",
    "# Creating a new DataFrame 'result_lgb' to organize prediction results\n",
    "result_lgb = pd.DataFrame()\n",
    "\n",
    "# Adding the 'case_id' column to 'result_lgb'\n",
    "result_lgb['case_id'] = test1['case_id']\n",
    "\n",
    "# Adding the predictions to 'result_lgb' with the column name 'Stay'\n",
    "result_lgb['Stay'] = pred_lgb\n",
    "\n",
    "# Reordiong columns in 'result_lgb'\n",
    "result_lgb = result_lgb[['case_id', 'Stay']]\n",
    "\n",
    "# Replacing numeric labels in 'Stay' column with meaningful categories\n",
    "label_mapping = {0: 'CategoryA', 1: 'CategoryB', 2: 'CategoryC', 3: 'CategoryD', 4: 'CategoryE', 5: 'CategoryF', 6: 'CategoryG', 7: 'CategoryH', 8: 'CategoryI', 9: 'CategoryJ', 10: 'CategoryK', 11: 'CategoryL', 12: 'CategoryM', 13: 'CategoryN', 14: 'CategoryO'}\n",
    "result_lgb['Stay'] = result_lgb['Stay'].replace(label_mapping)\n",
    "\n",
    "print(result_lgb)\n"
   ]
  },
  {
   "cell_type": "code",
   "execution_count": 26,
   "metadata": {},
   "outputs": [
    {
     "data": {
      "text/plain": [
       "Stay\n",
       "CategoryA     49\n",
       "CategoryB    373\n",
       "CategoryC    927\n",
       "CategoryD    182\n",
       "CategoryE     33\n",
       "CategoryF    338\n",
       "CategoryG      5\n",
       "CategoryH     37\n",
       "CategoryI     18\n",
       "CategoryJ      2\n",
       "CategoryK     36\n",
       "Name: case_id, dtype: int64"
      ]
     },
     "execution_count": 26,
     "metadata": {},
     "output_type": "execute_result"
    }
   ],
   "source": [
    "# Grouping the data by unique 'Stay' values and count the unique 'case_id' values\n",
    "result_lgb.groupby('Stay')['case_id'].nunique()"
   ]
  }
 ],
 "metadata": {
  "kernelspec": {
   "display_name": "base",
   "language": "python",
   "name": "python3"
  },
  "language_info": {
   "codemirror_mode": {
    "name": "ipython",
    "version": 3
   },
   "file_extension": ".py",
   "mimetype": "text/x-python",
   "name": "python",
   "nbconvert_exporter": "python",
   "pygments_lexer": "ipython3",
   "version": "3.9.16"
  }
 },
 "nbformat": 4,
 "nbformat_minor": 2
}
